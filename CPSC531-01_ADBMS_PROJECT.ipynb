{
 "cells": [
  {
   "cell_type": "code",
   "execution_count": null,
   "id": "dd0a9033",
   "metadata": {},
   "outputs": [],
   "source": [
    "import findspark\n",
    "findspark.init()"
   ]
  },
  {
   "cell_type": "code",
   "execution_count": 1,
   "id": "562a18cd",
   "metadata": {},
   "outputs": [],
   "source": [
    "import pyspark\n",
    "from pyspark.sql import SparkSession"
   ]
  },
  {
   "cell_type": "code",
   "execution_count": 2,
   "id": "7b24f319",
   "metadata": {},
   "outputs": [],
   "source": [
    "spark= pyspark.sql.SparkSession.builder.appName(\"test_import\").getOrCreate()"
   ]
  },
  {
   "cell_type": "code",
   "execution_count": 3,
   "id": "130afe32",
   "metadata": {},
   "outputs": [
    {
     "name": "stdout",
     "output_type": "stream",
     "text": [
      "+-----+\n",
      "|hello|\n",
      "+-----+\n",
      "|spark|\n",
      "+-----+\n",
      "\n"
     ]
    }
   ],
   "source": [
    "df=spark.sql('''select 'spark' as hello''')\n",
    "df.show()"
   ]
  },
  {
   "cell_type": "code",
   "execution_count": 4,
   "id": "9d3e3a13",
   "metadata": {},
   "outputs": [
    {
     "data": {
      "text/html": [
       "\n",
       "            <div>\n",
       "                <p><b>SparkSession - in-memory</b></p>\n",
       "                \n",
       "        <div>\n",
       "            <p><b>SparkContext</b></p>\n",
       "\n",
       "            <p><a href=\"http://DESKTOP-D00JSP8.lan:4040\">Spark UI</a></p>\n",
       "\n",
       "            <dl>\n",
       "              <dt>Version</dt>\n",
       "                <dd><code>v3.3.1</code></dd>\n",
       "              <dt>Master</dt>\n",
       "                <dd><code>local[*]</code></dd>\n",
       "              <dt>AppName</dt>\n",
       "                <dd><code>test_import</code></dd>\n",
       "            </dl>\n",
       "        </div>\n",
       "        \n",
       "            </div>\n",
       "        "
      ],
      "text/plain": [
       "<pyspark.sql.session.SparkSession at 0x266291ac190>"
      ]
     },
     "execution_count": 4,
     "metadata": {},
     "output_type": "execute_result"
    }
   ],
   "source": [
    "spark"
   ]
  },
  {
   "cell_type": "code",
   "execution_count": 5,
   "id": "96a9eefd",
   "metadata": {},
   "outputs": [],
   "source": [
    "from pyspark.sql.types import StructType,StructField,IntegerType,TimestampType,FloatType,StringType,DoubleType"
   ]
  },
  {
   "cell_type": "code",
   "execution_count": 6,
   "id": "3f51f64c",
   "metadata": {},
   "outputs": [],
   "source": [
    "schema=StructType([\n",
    "    StructField('VendorID',IntegerType(),True),\n",
    "    StructField('tpep_pickup_datetime',TimestampType(),True),\n",
    "    StructField('tpep_dropoff_datetime',TimestampType(),True),\n",
    "    StructField('passenger_count',IntegerType(),True),\n",
    "    StructField('trip_distance',FloatType(),True),\n",
    "    StructField('pickup_longitude',FloatType(),True),\n",
    "    StructField('pickup_latitude',FloatType(),True),\n",
    "    StructField('RateCodeID',IntegerType(),True),\n",
    "    StructField('store_and_fwd_flag',StringType(),True),\n",
    "    StructField('dropoff_longitude',FloatType(),True),\n",
    "    StructField('dropoff_latitude',FloatType(),True),\n",
    "    StructField('payment_type',IntegerType(),True),\n",
    "    StructField('fare_amount',FloatType(),True),\n",
    "    StructField('extra',FloatType(),True),\n",
    "    StructField('mta_tax',FloatType(),True),\n",
    "    StructField('tip_amount',FloatType(),True),\n",
    "    StructField('tolls_amount',FloatType(),True),\n",
    "    StructField('improvement_surcharge',FloatType(),True),\n",
    "    StructField('total_amount',FloatType(),True)\n",
    "]\n",
    ")"
   ]
  },
  {
   "cell_type": "code",
   "execution_count": 7,
   "id": "e89b3df1",
   "metadata": {},
   "outputs": [],
   "source": [
    "df = spark.read.csv('yellow_tripdata.csv',header=True,nullValue='NA',schema=schema)"
   ]
  },
  {
   "cell_type": "code",
   "execution_count": 8,
   "id": "e5f4578e",
   "metadata": {},
   "outputs": [
    {
     "name": "stdout",
     "output_type": "stream",
     "text": [
      "root\n",
      " |-- VendorID: integer (nullable = true)\n",
      " |-- tpep_pickup_datetime: timestamp (nullable = true)\n",
      " |-- tpep_dropoff_datetime: timestamp (nullable = true)\n",
      " |-- passenger_count: integer (nullable = true)\n",
      " |-- trip_distance: float (nullable = true)\n",
      " |-- pickup_longitude: float (nullable = true)\n",
      " |-- pickup_latitude: float (nullable = true)\n",
      " |-- RateCodeID: integer (nullable = true)\n",
      " |-- store_and_fwd_flag: string (nullable = true)\n",
      " |-- dropoff_longitude: float (nullable = true)\n",
      " |-- dropoff_latitude: float (nullable = true)\n",
      " |-- payment_type: integer (nullable = true)\n",
      " |-- fare_amount: float (nullable = true)\n",
      " |-- extra: float (nullable = true)\n",
      " |-- mta_tax: float (nullable = true)\n",
      " |-- tip_amount: float (nullable = true)\n",
      " |-- tolls_amount: float (nullable = true)\n",
      " |-- improvement_surcharge: float (nullable = true)\n",
      " |-- total_amount: float (nullable = true)\n",
      "\n"
     ]
    }
   ],
   "source": [
    "df.printSchema()"
   ]
  },
  {
   "cell_type": "code",
   "execution_count": 9,
   "id": "ed060126",
   "metadata": {},
   "outputs": [
    {
     "name": "stdout",
     "output_type": "stream",
     "text": [
      "+--------+--------------------+---------------------+---------------+-------------+----------------+---------------+----------+------------------+-----------------+----------------+------------+-----------+-----+-------+----------+------------+---------------------+------------+\n",
      "|VendorID|tpep_pickup_datetime|tpep_dropoff_datetime|passenger_count|trip_distance|pickup_longitude|pickup_latitude|RateCodeID|store_and_fwd_flag|dropoff_longitude|dropoff_latitude|payment_type|fare_amount|extra|mta_tax|tip_amount|tolls_amount|improvement_surcharge|total_amount|\n",
      "+--------+--------------------+---------------------+---------------+-------------+----------------+---------------+----------+------------------+-----------------+----------------+------------+-----------+-----+-------+----------+------------+---------------------+------------+\n",
      "|2       |2015-01-15 19:05:39 |2015-01-15 19:23:42  |1              |1.59         |-73.9939        |40.75011       |1         |N                 |-73.974785       |40.750618       |1           |12.0       |1.0  |0.5    |3.25      |0.0         |0.3                  |17.05       |\n",
      "|1       |2015-01-10 20:33:38 |2015-01-10 20:53:28  |1              |3.3          |-74.00165       |40.724243      |1         |N                 |-73.994415       |40.75911        |1           |14.5       |0.5  |0.5    |2.0       |0.0         |0.3                  |17.8        |\n",
      "|1       |2015-01-10 20:33:38 |2015-01-10 20:43:41  |1              |1.8          |-73.96334       |40.802788      |1         |N                 |-73.95182        |40.824413       |2           |9.5        |0.5  |0.5    |0.0       |0.0         |0.3                  |10.8        |\n",
      "|1       |2015-01-10 20:33:39 |2015-01-10 20:35:31  |1              |0.5          |-74.00909       |40.713818      |1         |N                 |-74.004326       |40.719986       |2           |3.5        |0.5  |0.5    |0.0       |0.0         |0.3                  |4.8         |\n",
      "|1       |2015-01-10 20:33:39 |2015-01-10 20:52:58  |1              |3.0          |-73.971176      |40.76243       |1         |N                 |-74.00418        |40.742653       |2           |15.0       |0.5  |0.5    |0.0       |0.0         |0.3                  |16.3        |\n",
      "+--------+--------------------+---------------------+---------------+-------------+----------------+---------------+----------+------------------+-----------------+----------------+------------+-----------+-----+-------+----------+------------+---------------------+------------+\n",
      "only showing top 5 rows\n",
      "\n"
     ]
    }
   ],
   "source": [
    "df.show(5,False)"
   ]
  },
  {
   "cell_type": "code",
   "execution_count": 10,
   "id": "0a7105c1",
   "metadata": {},
   "outputs": [],
   "source": [
    "newdf=df.repartition(5)"
   ]
  },
  {
   "cell_type": "code",
   "execution_count": 11,
   "id": "0a8d71d8",
   "metadata": {},
   "outputs": [
    {
     "name": "stdout",
     "output_type": "stream",
     "text": [
      "5\n"
     ]
    }
   ],
   "source": [
    "print(newdf.rdd.getNumPartitions())"
   ]
  },
  {
   "cell_type": "code",
   "execution_count": 12,
   "id": "c73693d2",
   "metadata": {},
   "outputs": [
    {
     "data": {
      "text/plain": [
       "pyspark.sql.dataframe.DataFrame"
      ]
     },
     "execution_count": 12,
     "metadata": {},
     "output_type": "execute_result"
    }
   ],
   "source": [
    "type(newdf)"
   ]
  },
  {
   "cell_type": "code",
   "execution_count": 13,
   "id": "25b04f09",
   "metadata": {},
   "outputs": [],
   "source": [
    "df.write.option(\"header\",True).csv(\"converteddataframe\")"
   ]
  },
  {
   "cell_type": "code",
   "execution_count": 14,
   "id": "c27aab3f",
   "metadata": {},
   "outputs": [],
   "source": [
    "import pandas as  pd\n",
    "import numpy as  np"
   ]
  },
  {
   "cell_type": "code",
   "execution_count": 15,
   "id": "3cdd6f66",
   "metadata": {},
   "outputs": [],
   "source": [
    "data=pd.DataFrame()"
   ]
  },
  {
   "cell_type": "code",
   "execution_count": 35,
   "id": "03e02873",
   "metadata": {},
   "outputs": [],
   "source": [
    "def cleandata(df):\n",
    "    df.dropna(how='any',axis='rows')\n",
    "   \n",
    "    return df"
   ]
  },
  {
   "cell_type": "code",
   "execution_count": 16,
   "id": "143a29c3",
   "metadata": {},
   "outputs": [],
   "source": [
    "from sklearn.model_selection import train_test_split\n",
    "from sklearn.ensemble import RandomForestRegressor\n",
    "from sklearn.metrics import accuracy_score"
   ]
  },
  {
   "cell_type": "code",
   "execution_count": 55,
   "id": "f745cf16",
   "metadata": {},
   "outputs": [
    {
     "name": "stdout",
     "output_type": "stream",
     "text": [
      "Accuracy of model  1  =  80.49837935231369 %\n",
      "Accuracy of model  2  =  78.9132001696577 %\n",
      "Accuracy of model  3  =  76.35880623430835 %\n",
      "Accuracy of model  4  =  69.96461437042298 %\n",
      "Accuracy of model  5  =  65.82842649391729 %\n",
      "Accuracy of model  6  =  79.38464128111612 %\n",
      "Accuracy of model  7  =  80.50581417964457 %\n",
      "Accuracy of model  8  =  80.7480336771226 %\n",
      "Accuracy of model  9  =  78.4926470202491 %\n",
      "Accuracy of model  10  =  79.92868627345419 %\n",
      "Accuracy of model  11  =  80.30892924300095 %\n"
     ]
    }
   ],
   "source": [
    "maxacc=0\n",
    "finalmodel=RandomForestRegressor(max_depth=3)\n",
    "model=RandomForestRegressor(max_depth=3)\n",
    "finaldata=pd.DataFrame()\n",
    "\n",
    "for i in range(11):\n",
    "    zero=str(0) if i<10 else \"\"\n",
    "    filename=\"C:\\\\Users\\\\User\\\\Documents\\\\converteddataframe\\\\part-000\"+ zero+str(i) + \"-65ce44da-fff6-4f06-a8a0-66ad4da7bc9a-c000.csv\"\n",
    "    data=pd.read_csv(filename)\n",
    "    data.drop(columns=['tpep_pickup_datetime','tpep_dropoff_datetime','VendorID','RateCodeID','store_and_fwd_flag','payment_type','fare_amount','extra','mta_tax','tip_amount','tolls_amount','improvement_surcharge'],axis=1,inplace=True)\n",
    "    data=cleandata(data)\n",
    "    \n",
    "    X=data.iloc[:,[0,1,2,3,4,5]]\n",
    "    y=data[\"total_amount\"]\n",
    "    X_train,X_test,y_train,y_test=train_test_split(X,y,test_size=0.3)\n",
    "    \n",
    "    model.fit(X_train, y_train)\n",
    "    #y_pred=model.predict(X_test)\n",
    "    curracc=model.score(X_test,y_test)\n",
    "    print(\"Accuracy of model \",i+1,\" = \",curracc*100,'%')\n",
    "    if(curracc>maxacc):\n",
    "        maxacc=curracc\n",
    "        finalmodel=model\n",
    "        finaldata=data\n"
   ]
  },
  {
   "cell_type": "code",
   "execution_count": 56,
   "id": "53a7c7f4",
   "metadata": {},
   "outputs": [
    {
     "name": "stdout",
     "output_type": "stream",
     "text": [
      "Accuracy of model selected =  80.7480336771226 %\n"
     ]
    }
   ],
   "source": [
    "print(\"Accuracy of model selected = \",maxacc*100,\"%\")"
   ]
  },
  {
   "cell_type": "code",
   "execution_count": 57,
   "id": "f42b9f6d",
   "metadata": {},
   "outputs": [
    {
     "name": "stdout",
     "output_type": "stream",
     "text": [
      "Validation file  1  =  78.4583268850674 %\n",
      "Validation file  2  =  78.23763685149262 %\n",
      "Validation file  3  =  0.001035452719577723 %\n",
      "Validation file  4  =  79.305260423657 %\n",
      "Validation file  5  =  67.8084434837801 %\n"
     ]
    }
   ],
   "source": [
    "for i in range(10,15):\n",
    "    \n",
    "    filename=\"C:\\\\Users\\\\User\\\\Documents\\\\converteddataframe\\\\part-000\" + str(i) + \"-65ce44da-fff6-4f06-a8a0-66ad4da7bc9a-c000.csv\"\n",
    "    data=pd.read_csv(filename)\n",
    "    data.drop(columns=['tpep_pickup_datetime','tpep_dropoff_datetime','VendorID','RateCodeID','store_and_fwd_flag','payment_type','fare_amount','extra','mta_tax','tip_amount','tolls_amount','improvement_surcharge'],axis=1,inplace=True)\n",
    "    print(\"Validation file \",i-9,\" = \",finalmodel.score(data.iloc[:,:-1],data[\"total_amount\"])*100,\"%\")"
   ]
  },
  {
   "cell_type": "code",
   "execution_count": 58,
   "id": "e250dade",
   "metadata": {},
   "outputs": [
    {
     "data": {
      "text/plain": [
       "array([[<AxesSubplot:title={'center':'passenger_count'}>]], dtype=object)"
      ]
     },
     "execution_count": 58,
     "metadata": {},
     "output_type": "execute_result"
    },
    {
     "data": {
      "image/png": "[encoded data removed]",
      "text/plain": [
       "<Figure size 432x288 with 1 Axes>"
      ]
     },
     "metadata": {
      "needs_background": "light"
     },
     "output_type": "display_data"
    }
   ],
   "source": [
    "data.hist(column=\"passenger_count\")"
   ]
  },
  {
   "cell_type": "code",
   "execution_count": 42,
   "id": "ff7ce7cb",
   "metadata": {},
   "outputs": [],
   "source": [
    "import matplotlib.pyplot as  plt"
   ]
  },
  {
   "cell_type": "code",
   "execution_count": 59,
   "id": "73e8ce31",
   "metadata": {},
   "outputs": [
    {
     "data": {
      "text/plain": [
       "<matplotlib.collections.PathCollection at 0x266525c3e20>"
      ]
     },
     "execution_count": 59,
     "metadata": {},
     "output_type": "execute_result"
    },
    {
     "data": {
      "image/png": "[encoded data removed]",
      "text/plain": [
       "<Figure size 432x288 with 1 Axes>"
      ]
     },
     "metadata": {
      "needs_background": "light"
     },
     "output_type": "display_data"
    }
   ],
   "source": [
    "plt.scatter(data['trip_distance'],data['total_amount'])"
   ]
  },
  {
   "cell_type": "code",
   "execution_count": 60,
   "id": "58c15664",
   "metadata": {},
   "outputs": [
    {
     "data": {
      "text/plain": [
       "count    6.863750e+05\n",
       "mean     2.699893e+01\n",
       "std      1.487855e+04\n",
       "min      0.000000e+00\n",
       "25%      1.000000e+00\n",
       "50%      1.700000e+00\n",
       "75%      3.100000e+00\n",
       "max      1.180000e+07\n",
       "Name: trip_distance, dtype: float64"
      ]
     },
     "execution_count": 60,
     "metadata": {},
     "output_type": "execute_result"
    }
   ],
   "source": [
    "data['trip_distance'].describe()"
   ]
  },
  {
   "cell_type": "code",
   "execution_count": 61,
   "id": "f80d7997",
   "metadata": {},
   "outputs": [
    {
     "data": {
      "text/plain": [
       "(array([1.28890e+04, 0.00000e+00, 0.00000e+00, 0.00000e+00, 3.00000e+00,\n",
       "        6.73481e+05, 1.00000e+00, 0.00000e+00, 0.00000e+00, 1.00000e+00]),\n",
       " array([ 0.     ,  7.08255, 14.1651 , 21.24765, 28.3302 , 35.41275,\n",
       "        42.4953 , 49.57785, 56.6604 , 63.74295, 70.8255 ]),\n",
       " <BarContainer object of 10 artists>)"
      ]
     },
     "execution_count": 61,
     "metadata": {},
     "output_type": "execute_result"
    },
    {
     "data": {
      "image/png": "[encoded data removed]",
      "text/plain": [
       "<Figure size 432x288 with 1 Axes>"
      ]
     },
     "metadata": {
      "needs_background": "light"
     },
     "output_type": "display_data"
    }
   ],
   "source": [
    "plt.hist(data['dropoff_latitude'])"
   ]
  },
  {
   "cell_type": "code",
   "execution_count": 62,
   "id": "966035e6",
   "metadata": {},
   "outputs": [
    {
     "data": {
      "text/plain": [
       "(array([1.00000e+00, 0.00000e+00, 0.00000e+00, 0.00000e+00, 5.00000e+00,\n",
       "        6.73481e+05, 0.00000e+00, 0.00000e+00, 0.00000e+00, 1.28880e+04]),\n",
       " array([-152.03401 , -136.830609, -121.627208, -106.423807,  -91.220406,\n",
       "         -76.017005,  -60.813604,  -45.610203,  -30.406802,  -15.203401,\n",
       "           0.      ]),\n",
       " <BarContainer object of 10 artists>)"
      ]
     },
     "execution_count": 62,
     "metadata": {},
     "output_type": "execute_result"
    },
    {
     "data": {
      "image/png": "[encoded data removed]",
      "text/plain": [
       "<Figure size 432x288 with 1 Axes>"
      ]
     },
     "metadata": {
      "needs_background": "light"
     },
     "output_type": "display_data"
    }
   ],
   "source": [
    "plt.hist(data['dropoff_longitude'])"
   ]
  },
  {
   "cell_type": "code",
   "execution_count": null,
   "id": "016f45fe",
   "metadata": {},
   "outputs": [],
   "source": []
  }
 ],
 "metadata": {
  "kernelspec": {
   "display_name": "Python 3 (ipykernel)",
   "language": "python",
   "name": "python3"
  },
  "language_info": {
   "codemirror_mode": {
    "name": "ipython",
    "version": 3
   },
   "file_extension": ".py",
   "mimetype": "text/x-python",
   "name": "python",
   "nbconvert_exporter": "python",
   "pygments_lexer": "ipython3",
   "version": "3.9.7"
  }
 },
 "nbformat": 4,
 "nbformat_minor": 5
}
